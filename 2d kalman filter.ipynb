{
 "cells": [
  {
   "cell_type": "code",
   "execution_count": 2,
   "metadata": {},
   "outputs": [],
   "source": [
    "import numpy as np\n",
    "import matplotlib.pyplot as plt"
   ]
  },
  {
   "cell_type": "code",
   "execution_count": 99,
   "metadata": {},
   "outputs": [
    {
     "data": {
      "text/plain": [
       "<matplotlib.collections.PathCollection at 0x19cbb671a58>"
      ]
     },
     "execution_count": 99,
     "metadata": {},
     "output_type": "execute_result"
    },
    {
     "data": {
      "image/png": "[encoded data removed]",
      "text/plain": [
       "<Figure size 720x360 with 1 Axes>"
      ]
     },
     "metadata": {
      "needs_background": "light"
     },
     "output_type": "display_data"
    }
   ],
   "source": []
  },
  {
   "cell_type": "code",
   "execution_count": 82,
   "metadata": {},
   "outputs": [],
   "source": []
  },
  {
   "cell_type": "code",
   "execution_count": 119,
   "metadata": {},
   "outputs": [
    {
     "name": "stdout",
     "output_type": "stream",
     "text": [
      "(2, 1)\n",
      "X_p shape: (2, 1)\n",
      "(2, 2)\n",
      "X_p shape: (2, 2)\n",
      "(2, 2)\n",
      "X_p shape: (2, 2)\n",
      "(2, 2)\n",
      "X_p shape: (2, 2)\n",
      "(2, 2)\n",
      "X_p shape: (2, 2)\n",
      "(2, 2)\n",
      "X_p shape: (2, 2)\n",
      "(2, 2)\n",
      "X_p shape: (2, 2)\n",
      "(2, 2)\n",
      "X_p shape: (2, 2)\n",
      "(2, 2)\n",
      "X_p shape: (2, 2)\n",
      "(2, 2)\n",
      "X_p shape: (2, 2)\n",
      "(2, 2)\n",
      "X_p shape: (2, 2)\n",
      "(2, 2)\n",
      "X_p shape: (2, 2)\n",
      "(2, 2)\n",
      "X_p shape: (2, 2)\n",
      "(2, 2)\n",
      "X_p shape: (2, 2)\n",
      "(2, 2)\n",
      "X_p shape: (2, 2)\n",
      "(2, 2)\n",
      "X_p shape: (2, 2)\n",
      "(2, 2)\n",
      "X_p shape: (2, 2)\n",
      "(2, 2)\n",
      "X_p shape: (2, 2)\n",
      "(2, 2)\n",
      "X_p shape: (2, 2)\n",
      "(2, 2)\n",
      "X_p shape: (2, 2)\n",
      "(2, 2)\n",
      "X_p shape: (2, 2)\n",
      "(2, 2)\n",
      "X_p shape: (2, 2)\n",
      "(2, 2)\n",
      "X_p shape: (2, 2)\n",
      "(2, 2)\n",
      "X_p shape: (2, 2)\n",
      "(2, 2)\n",
      "X_p shape: (2, 2)\n",
      "(2, 2)\n"
     ]
    },
    {
     "data": {
      "text/plain": [
       "<Figure size 720x360 with 0 Axes>"
      ]
     },
     "metadata": {},
     "output_type": "display_data"
    },
    {
     "data": {
      "image/png": "[encoded data removed]",
      "text/plain": [
       "<Figure size 720x360 with 1 Axes>"
      ]
     },
     "metadata": {
      "needs_background": "light"
     },
     "output_type": "display_data"
    }
   ],
   "source": [
    "m=25\n",
    "dx=np.random.random(2*m)\n",
    "dy=np.random.random(2*m)\n",
    "x=.3*np.linspace(1,m)+.4*dx\n",
    "y=.5*np.linspace(1,m)+.4*dy\n",
    "X_m=np.array([x,y])\n",
    "X_m=X_m.T\n",
    "plt.figure(figsize=(10,5))\n",
    "#plt.scatter(X_m[:,0],X_m[:,1])\n",
    "del_t=1\n",
    "X_p=np.array([[1],[2]])\n",
    "U=np.array([[.3],[.5]])\n",
    "P_p=np.zeros((2,1))\n",
    "R=np.array([[0.02],[0.05]])\n",
    "X=np.array([[.1],[.2]])\n",
    "print(X.shape)\n",
    "P=np.array([[0.02],[0.05]])\n",
    "l1=[]\n",
    "l2=[]\n",
    "plt.figure(figsize=(10,5))\n",
    "plt.plot(X_m[:,0],X_m[:,1],'o',color='red')\n",
    "for i in range(m):\n",
    "    X_p=X+del_t*U\n",
    "    print(\"X_p shape:\",X_p.shape)\n",
    "    P_p=P\n",
    "    K=np.divide(P_p,P_p+R)\n",
    "    Y_p=np.array(X_m[0]).T\n",
    "    X=X_p+K*(Y_p-X_p)\n",
    "    print(X.shape)\n",
    "    P=(np.eye(2)-np.diag(K.T))*P_p\n",
    "    l1.append(X[0])\n",
    "    l2.append(X[1])\n",
    "    plt.plot(X_p[0],X_p[1],'o',color='blue')\n",
    "    \n",
    "plt.show()"
   ]
  },
  {
   "cell_type": "code",
   "execution_count": 114,
   "metadata": {},
   "outputs": [
    {
     "data": {
      "text/plain": [
       "(2, 2)"
      ]
     },
     "execution_count": 114,
     "metadata": {},
     "output_type": "execute_result"
    }
   ],
   "source": [
    "X"
   ]
  },
  {
   "cell_type": "code",
   "execution_count": 65,
   "metadata": {},
   "outputs": [
    {
     "data": {
      "image/png": "[encoded data removed]",
      "text/plain": [
       "<Figure size 432x288 with 1 Axes>"
      ]
     },
     "metadata": {
      "needs_background": "light"
     },
     "output_type": "display_data"
    }
   ],
   "source": [
    "for i in range(m):\n",
    "    plt.plot(x[i],y[i],'o',color='blue')"
   ]
  },
  {
   "cell_type": "code",
   "execution_count": 28,
   "metadata": {},
   "outputs": [
    {
     "data": {
      "text/plain": [
       "(50, 2)"
      ]
     },
     "execution_count": 28,
     "metadata": {},
     "output_type": "execute_result"
    }
   ],
   "source": [
    "X_m.shape"
   ]
  },
  {
   "cell_type": "code",
   "execution_count": 42,
   "metadata": {},
   "outputs": [
    {
     "data": {
      "text/plain": [
       "array([[1, 2],\n",
       "       [3, 4]])"
      ]
     },
     "execution_count": 42,
     "metadata": {},
     "output_type": "execute_result"
    }
   ],
   "source": [
    "x=np.array([[1,2],[3,4]])\n",
    "x"
   ]
  },
  {
   "cell_type": "code",
   "execution_count": 47,
   "metadata": {},
   "outputs": [
    {
     "data": {
      "text/plain": [
       "array([[1, 2, 3],\n",
       "       [3, 4, 5]])"
      ]
     },
     "execution_count": 47,
     "metadata": {},
     "output_type": "execute_result"
    }
   ],
   "source": [
    "np.insert(x,2,[3,5],axis=1)"
   ]
  },
  {
   "cell_type": "code",
   "execution_count": 100,
   "metadata": {},
   "outputs": [
    {
     "data": {
      "text/plain": [
       "array([2, 8])"
      ]
     },
     "execution_count": 100,
     "metadata": {},
     "output_type": "execute_result"
    }
   ],
   "source": [
    "np.array([1,2]).T*np.array([2,4]).T"
   ]
  },
  {
   "cell_type": "code",
   "execution_count": null,
   "metadata": {},
   "outputs": [],
   "source": []
  }
 ],
 "metadata": {
  "kernelspec": {
   "display_name": "Python 3",
   "language": "python",
   "name": "python3"
  },
  "language_info": {
   "codemirror_mode": {
    "name": "ipython",
    "version": 3
   },
   "file_extension": ".py",
   "mimetype": "text/x-python",
   "name": "python",
   "nbconvert_exporter": "python",
   "pygments_lexer": "ipython3",
   "version": "3.7.3"
  }
 },
 "nbformat": 4,
 "nbformat_minor": 2
}
